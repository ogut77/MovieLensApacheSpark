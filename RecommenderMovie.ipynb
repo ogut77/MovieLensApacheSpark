{
  "nbformat": 4,
  "nbformat_minor": 0,
  "metadata": {
    "colab": {
      "name": "RecommenderMovie.ipynb",
      "provenance": [],
      "collapsed_sections": []
    },
    "kernelspec": {
      "name": "python3",
      "display_name": "Python 3"
    }
  },
  "cells": [
    {
      "cell_type": "markdown",
      "metadata": {
        "id": "_r_XtLwx-THX"
      },
      "source": [
        "# Installing Apache Spark \n",
        "This project illustrates how to built movie recomendation system using  Google Colab Environment and Python.  Movielens preject's data set is the source of data for this project. As techniqal requirement,  we start by installing Java, Apahe Spark and Findspark at first."
      ]
    },
    {
      "cell_type": "code",
      "metadata": {
        "id": "Ke0-Z400ajF_"
      },
      "source": [
        "# innstall java\n",
        "!apt-get install openjdk-8-jdk-headless -qq > /dev/null\n",
        "\n",
        "# install spark (change the version number if needed)\n",
        "!wget -q https://archive.apache.org/dist/spark/spark-3.0.0/spark-3.0.0-bin-hadoop3.2.tgz\n",
        "\n",
        "# unzip the spark file to the current folder\n",
        "!tar xf spark-3.0.0-bin-hadoop3.2.tgz\n",
        "\n",
        "# install findspark using pip\n",
        "!pip install -q findspark"
      ],
      "execution_count": 3,
      "outputs": []
    },
    {
      "cell_type": "markdown",
      "metadata": {
        "id": "NtzXuUTtaGT7"
      },
      "source": [
        "In the column below, we are setting environment variables that we want to access for Java and Spark"
      ]
    },
    {
      "cell_type": "code",
      "metadata": {
        "id": "FTuTjNjAAYXn"
      },
      "source": [
        "# set your spark folder to your system path environment. \n",
        "import os\n",
        "os.environ[\"JAVA_HOME\"] = \"/usr/lib/jvm/java-8-openjdk-amd64\"\n",
        "os.environ[\"SPARK_HOME\"] = \"/content/spark-3.0.0-bin-hadoop3.2\"\n"
      ],
      "execution_count": null,
      "outputs": []
    },
    {
      "cell_type": "code",
      "metadata": {
        "id": "EorfzzCuAb1t"
      },
      "source": [
        "import findspark\n",
        "findspark.init()\n",
        "from pyspark.sql import SparkSession\n",
        "spark = SparkSession.builder.master(\"local[*]\").getOrCreate()\n"
      ],
      "execution_count": 4,
      "outputs": []
    },
    {
      "cell_type": "markdown",
      "metadata": {
        "id": "PNfIxQewcZ6G"
      },
      "source": [
        "Let's check what we have in the default folder"
      ]
    },
    {
      "cell_type": "code",
      "metadata": {
        "id": "LxV9jBBLAlmm",
        "colab": {
          "base_uri": "https://localhost:8080/"
        },
        "outputId": "b9acf54d-abbc-4b5c-b955-d97b32d0b8b5"
      },
      "source": [
        "!ls"
      ],
      "execution_count": 5,
      "outputs": [
        {
          "output_type": "stream",
          "name": "stdout",
          "text": [
            "sample_data  spark-3.0.0-bin-hadoop3.2\tspark-3.0.0-bin-hadoop3.2.tgz\n"
          ]
        }
      ]
    },
    {
      "cell_type": "markdown",
      "metadata": {
        "id": "IYyzxBuqcejA"
      },
      "source": [
        "We will check whether Apache Spark is installed by using sample_data file stored in the default folder."
      ]
    },
    {
      "cell_type": "code",
      "metadata": {
        "id": "o9GpTITyArX9",
        "colab": {
          "base_uri": "https://localhost:8080/"
        },
        "outputId": "ece296b7-c4db-4912-e146-209aacf26252"
      },
      "source": [
        "from pyspark import SparkContext\n",
        "sc = SparkContext.getOrCreate()\n",
        "\n",
        "lines = sc.textFile(\"sample_data\") \n",
        "lines.take(5)\n",
        "#number of lines\n",
        "print(lines.count())"
      ],
      "execution_count": 6,
      "outputs": [
        {
          "output_type": "stream",
          "name": "stdout",
          "text": [
            "50070\n"
          ]
        }
      ]
    },
    {
      "cell_type": "markdown",
      "metadata": {
        "id": "-MbDkKO_cm2Q"
      },
      "source": [
        "# **Download Data From Movie Lens Website**\n",
        "After installing Apache Spark, we download Movie Lens data into our drive. Movie Lens two types of data: small and big. URL of thse files are\n",
        "http://files.grouplens.org/datasets/movielens/ml-latest-small.zip\n",
        "     http://files.grouplens.org/datasets/movielens/ml-latest.zip\n",
        "We are downloading these files into our Gogle Drive. As these files are zip files, we are unzipping these files into our Google Drive."
      ]
    },
    {
      "cell_type": "code",
      "metadata": {
        "id": "sdO2u2KXAtoU",
        "colab": {
          "base_uri": "https://localhost:8080/",
          "height": 121
        },
        "outputId": "a40e2521-c25a-43a2-e8c4-b8ce26d70de4"
      },
      "source": [
        "import urllib.request\n",
        "import pandas as pd \n",
        "import zipfile\n",
        "import os\n",
        "from google.colab import drive\n",
        "\n",
        "# This will prompt for authorization.\n",
        "drive.mount('/content/drive')\n",
        "\n",
        "import os\n",
        "\n",
        "small=urllib.request.urlretrieve('http://files.grouplens.org/datasets/movielens/ml-latest-small.zip','/content/drive/My Drive/small.zip')\n",
        "big=urllib.request.urlretrieve('http://files.grouplens.org/datasets/movielens/ml-latest.zip','/content/drive/My Drive/big.zip')\n",
        "\n",
        "with zipfile.ZipFile('/content/drive/My Drive/small.zip', \"r\") as z:\n",
        "   z.extractall('/content/drive/My Drive/')\n",
        "    \n",
        "with zipfile.ZipFile('/content/drive/My Drive/big.zip', \"r\") as z:\n",
        "   z.extractall('/content/drive/My Drive/')"
      ],
      "execution_count": null,
      "outputs": [
        {
          "output_type": "stream",
          "text": [
            "Go to this URL in a browser: https://accounts.google.com/o/oauth2/auth?client_id=947318989803-6bn6qk8qdgf4n4g3pfee6491hc0brc4i.apps.googleusercontent.com&redirect_uri=urn%3Aietf%3Awg%3Aoauth%3A2.0%3Aoob&scope=email%20https%3A%2F%2Fwww.googleapis.com%2Fauth%2Fdocs.test%20https%3A%2F%2Fwww.googleapis.com%2Fauth%2Fdrive%20https%3A%2F%2Fwww.googleapis.com%2Fauth%2Fdrive.photos.readonly%20https%3A%2F%2Fwww.googleapis.com%2Fauth%2Fpeopleapi.readonly&response_type=code\n",
            "\n",
            "Enter your authorization code:\n",
            "··········\n",
            "Mounted at /content/drive\n"
          ],
          "name": "stdout"
        }
      ]
    },
    {
      "cell_type": "markdown",
      "metadata": {
        "id": "1ZS_7gREnzu8"
      },
      "source": [
        "Let's check what we have in the My Drive folder. We have ml-latest and ml-latest-small file. These files are unzipped from big.zip and small.zip files."
      ]
    },
    {
      "cell_type": "code",
      "metadata": {
        "id": "fillwKCXA8rl",
        "colab": {
          "base_uri": "https://localhost:8080/",
          "height": 67
        },
        "outputId": "7b0f66be-6d7b-4a01-916b-60f3c5a21ab9"
      },
      "source": [
        "!ls \"/content/drive/My Drive\""
      ],
      "execution_count": null,
      "outputs": [
        {
          "output_type": "stream",
          "text": [
            " big.zip\t    Iphone\t  ml-latest\t        ratings.csv\n",
            " Book1a.csv\t    kaggle.json   ml-latest-small       small.zip\n",
            "'Colab Notebooks'   mel\t\t  paris_completed.wf1\n"
          ],
          "name": "stdout"
        }
      ]
    },
    {
      "cell_type": "markdown",
      "metadata": {
        "id": "lziuf5oLpd1h"
      },
      "source": [
        "# Preparing Data For Machine Learning\n",
        "We read reading.csv files in ml-latest small files by removing header"
      ]
    },
    {
      "cell_type": "code",
      "metadata": {
        "id": "JUaS1O9wBM0r"
      },
      "source": [
        "small_ratings_raw_data = sc.textFile('/content/drive/My Drive/ml-latest-small/ratings.csv')\n",
        "small_ratings_raw_data_header = small_ratings_raw_data.take(1)[0]"
      ],
      "execution_count": null,
      "outputs": []
    },
    {
      "cell_type": "markdown",
      "metadata": {
        "id": "q6zdHDTRqfhn"
      },
      "source": [
        "We split data by \",\" and take first three columns."
      ]
    },
    {
      "cell_type": "code",
      "metadata": {
        "id": "FatmCG_tBPX7"
      },
      "source": [
        "small_ratings_data = small_ratings_raw_data.filter(lambda line: line!=small_ratings_raw_data_header)\\\n",
        "    .map(lambda line: line.split(\",\")).map(lambda tokens: (tokens[0],tokens[1],tokens[2])).cache()"
      ],
      "execution_count": null,
      "outputs": []
    },
    {
      "cell_type": "markdown",
      "metadata": {
        "id": "NdVumqoIrlhA"
      },
      "source": [
        "First three rows of the data are shown as following. First column is user id, second column is movie id and the third column is rating. "
      ]
    },
    {
      "cell_type": "code",
      "metadata": {
        "id": "y1qjXu7iBaUp",
        "colab": {
          "base_uri": "https://localhost:8080/",
          "height": 34
        },
        "outputId": "3d532edf-cb7d-4708-8377-daf5fc7ab19f"
      },
      "source": [
        "small_ratings_data.take(3)"
      ],
      "execution_count": null,
      "outputs": [
        {
          "output_type": "execute_result",
          "data": {
            "text/plain": [
              "[('1', '1', '4.0'), ('1', '3', '4.0'), ('1', '6', '4.0')]"
            ]
          },
          "metadata": {
            "tags": []
          },
          "execution_count": 10
        }
      ]
    },
    {
      "cell_type": "markdown",
      "metadata": {
        "id": "9Vn89DqCsgPl"
      },
      "source": [
        "We are processing movies file in the same way. First remove header and read the data by splittng with \",\" and taking first two columns\n",
        ".Then, list first three rows. First column is movie id and second column is movie name. "
      ]
    },
    {
      "cell_type": "code",
      "metadata": {
        "id": "1rArSjgjBf_w",
        "colab": {
          "base_uri": "https://localhost:8080/",
          "height": 67
        },
        "outputId": "5f639cd7-39ec-4cb2-ecee-2ba6ea0a4d22"
      },
      "source": [
        "small_movies_raw_data = sc.textFile('/content/drive/My Drive/ml-latest-small/movies.csv')\n",
        "small_movies_raw_data_header = small_movies_raw_data.take(1)[0]\n",
        "\n",
        "small_movies_data = small_movies_raw_data.filter(lambda line: line!=small_movies_raw_data_header)\\\n",
        "    .map(lambda line: line.split(\",\")).map(lambda tokens: (tokens[0],tokens[1])).cache()\n",
        "    \n",
        "small_movies_data.take(3)"
      ],
      "execution_count": null,
      "outputs": [
        {
          "output_type": "execute_result",
          "data": {
            "text/plain": [
              "[('1', 'Toy Story (1995)'),\n",
              " ('2', 'Jumanji (1995)'),\n",
              " ('3', 'Grumpier Old Men (1995)')]"
            ]
          },
          "metadata": {
            "tags": []
          },
          "execution_count": 11
        }
      ]
    },
    {
      "cell_type": "markdown",
      "metadata": {
        "id": "aTbJIt__x5q7"
      },
      "source": [
        "We first split small rating data drevied from rating.csv into three parts:training_RDD, validation_RDD, test_RDD with the ratio of 0.6,0.2 and 0.2"
      ]
    },
    {
      "cell_type": "code",
      "metadata": {
        "id": "EoYGnZuQBhxZ"
      },
      "source": [
        "training_RDD, validation_RDD, test_RDD = small_ratings_data.randomSplit([0.6, 0.2, 0.2], seed=42)\n",
        "validation_for_predict_RDD = validation_RDD.map(lambda x: (x[0], x[1]))\n",
        "test_for_predict_RDD = test_RDD.map(lambda x: (x[0], x[1]))"
      ],
      "execution_count": null,
      "outputs": []
    },
    {
      "cell_type": "code",
      "metadata": {
        "id": "DWpXVsqrBl8R",
        "colab": {
          "base_uri": "https://localhost:8080/",
          "height": 84
        },
        "outputId": "60dc5ad6-dcf4-4ba4-d10e-f7e2c5edd230"
      },
      "source": [
        "from pyspark.mllib.recommendation import ALS\n",
        "import math\n",
        "\n",
        "seed = 42\n",
        "iterations = 10\n",
        "regularization_parameter = 0.1\n",
        "ranks = [4, 8, 12]\n",
        "errors = [0, 0, 0]\n",
        "err = 0\n",
        "tolerance = 0.02\n",
        "\n",
        "min_error = float('inf')\n",
        "best_rank = -1\n",
        "best_iteration = -1\n",
        "for rank in ranks:\n",
        "    model = ALS.train(training_RDD, rank, seed=seed, iterations=iterations,\n",
        "                      lambda_=regularization_parameter)\n",
        "    predictions = model.predictAll(validation_for_predict_RDD).map(lambda r: ((r[0], r[1]), r[2]))\n",
        "    rates_and_preds = validation_RDD.map(lambda r: ((int(r[0]), int(r[1])), float(r[2]))).join(predictions)\n",
        "    error = math.sqrt(rates_and_preds.map(lambda r: (r[1][0] - r[1][1])**2).mean())\n",
        "    errors[err] = error\n",
        "    err += 1\n",
        "    print('For rank %s the RMSE is %s'+ str( (rank, error)))\n",
        "    if error < min_error:\n",
        "        min_error = error\n",
        "        best_rank = rank\n",
        "\n",
        "print('The best model was trained with rank %s'+ str( best_rank))"
      ],
      "execution_count": null,
      "outputs": [
        {
          "output_type": "stream",
          "text": [
            "For rank %s the RMSE is %s(4, 0.9085735126459838)\n",
            "For rank %s the RMSE is %s(8, 0.9093646061880156)\n",
            "For rank %s the RMSE is %s(12, 0.9062301308911616)\n",
            "The best model was trained with rank %s12\n"
          ],
          "name": "stdout"
        }
      ]
    },
    {
      "cell_type": "code",
      "metadata": {
        "id": "b4_cM6CyBr2n",
        "colab": {
          "base_uri": "https://localhost:8080/",
          "height": 67
        },
        "outputId": "c500a274-aff6-41e0-9179-b776fb164fb4"
      },
      "source": [
        "predictions.take(3)"
      ],
      "execution_count": null,
      "outputs": [
        {
          "output_type": "execute_result",
          "data": {
            "text/plain": [
              "[((140, 1084), 3.5153012095701484),\n",
              " ((74, 1084), 4.177394484005578),\n",
              " ((402, 1084), 3.9674954778809974)]"
            ]
          },
          "metadata": {
            "tags": []
          },
          "execution_count": 14
        }
      ]
    },
    {
      "cell_type": "code",
      "metadata": {
        "id": "78z89Yr1B2v_",
        "colab": {
          "base_uri": "https://localhost:8080/",
          "height": 67
        },
        "outputId": "7c1b5a76-a84e-4ea8-926b-010f6c0c2a7d"
      },
      "source": [
        "rates_and_preds.take(3)"
      ],
      "execution_count": null,
      "outputs": [
        {
          "output_type": "execute_result",
          "data": {
            "text/plain": [
              "[((1, 553), (5.0, 4.351966643985909)),\n",
              " ((1, 673), (3.0, 2.921655604127569)),\n",
              " ((1, 1025), (5.0, 4.302670516478489))]"
            ]
          },
          "metadata": {
            "tags": []
          },
          "execution_count": 15
        }
      ]
    },
    {
      "cell_type": "code",
      "metadata": {
        "id": "tPPyRhzpB4f-",
        "colab": {
          "base_uri": "https://localhost:8080/",
          "height": 34
        },
        "outputId": "e1b4447b-c9c3-43ac-f01d-e72a83338a4d"
      },
      "source": [
        "model = ALS.train(training_RDD, best_rank, seed=seed, iterations=iterations,\n",
        "                      lambda_=regularization_parameter)\n",
        "predictions = model.predictAll(test_for_predict_RDD).map(lambda r: ((r[0], r[1]), r[2]))\n",
        "rates_and_preds = test_RDD.map(lambda r: ((int(r[0]), int(r[1])), float(r[2]))).join(predictions)\n",
        "error = math.sqrt(rates_and_preds.map(lambda r: (r[1][0] - r[1][1])**2).mean())\n",
        "    \n",
        "print('For testing data the RMSE is '+str(error))"
      ],
      "execution_count": null,
      "outputs": [
        {
          "output_type": "stream",
          "text": [
            "For testing data the RMSE is 0.9175771942446856\n"
          ],
          "name": "stdout"
        }
      ]
    },
    {
      "cell_type": "code",
      "metadata": {
        "id": "ObLUQSjgB9ho",
        "colab": {
          "base_uri": "https://localhost:8080/",
          "height": 34
        },
        "outputId": "7fe5449c-2d92-46b8-9920-dcb2dfdafda6"
      },
      "source": [
        "complete_ratings_raw_data = sc.textFile('/content/drive/My Drive/ml-latest/ratings.csv')\n",
        "complete_ratings_raw_data_header = complete_ratings_raw_data.take(1)[0]\n",
        "\n",
        "# Parse\n",
        "complete_ratings_data = complete_ratings_raw_data.filter(lambda line: line!=complete_ratings_raw_data_header)\\\n",
        "    .map(lambda line: line.split(\",\")).map(lambda tokens: (int(tokens[0]),int(tokens[1]),float(tokens[2]))).cache()\n",
        "    \n",
        "print (\"There are %s recommendations in the complete dataset\" % (complete_ratings_data.count()))"
      ],
      "execution_count": null,
      "outputs": [
        {
          "output_type": "stream",
          "text": [
            "There are 27753444 recommendations in the complete dataset\n"
          ],
          "name": "stdout"
        }
      ]
    },
    {
      "cell_type": "code",
      "metadata": {
        "id": "h0t9LD-HCFoF"
      },
      "source": [
        "training_RDD, test_RDD = complete_ratings_data.randomSplit([7, 3], seed=42)\n",
        "\n",
        "complete_model = ALS.train(training_RDD, best_rank, seed=seed, \n",
        "                           iterations=iterations, lambda_=regularization_parameter)"
      ],
      "execution_count": null,
      "outputs": []
    },
    {
      "cell_type": "code",
      "metadata": {
        "id": "TmG4sUv2CIkP",
        "colab": {
          "base_uri": "https://localhost:8080/",
          "height": 34
        },
        "outputId": "edf748e8-38bf-4fd8-dbda-a86fb5fbeb0b"
      },
      "source": [
        "test_for_predict_RDD = test_RDD.map(lambda x: (x[0], x[1]))\n",
        "\n",
        "predictions = complete_model.predictAll(test_for_predict_RDD).map(lambda r: ((r[0], r[1]), r[2]))\n",
        "rates_and_preds = test_RDD.map(lambda r: ((int(r[0]), int(r[1])), float(r[2]))).join(predictions)\n",
        "error = math.sqrt(rates_and_preds.map(lambda r: (r[1][0] - r[1][1])**2).mean())\n",
        "    \n",
        "print(\"For testing data the RMSE is %s\" % (error))"
      ],
      "execution_count": null,
      "outputs": [
        {
          "output_type": "stream",
          "text": [
            "For testing data the RMSE is 0.8159314421483166\n"
          ],
          "name": "stdout"
        }
      ]
    },
    {
      "cell_type": "code",
      "metadata": {
        "id": "T7L0MPPnCNgF",
        "colab": {
          "base_uri": "https://localhost:8080/",
          "height": 34
        },
        "outputId": "b8b63bad-59f9-41f8-d329-45dc02ccac9b"
      },
      "source": [
        "complete_movies_raw_data = sc.textFile('/content/drive/My Drive/ml-latest/movies.csv')\n",
        "complete_movies_raw_data_header = complete_movies_raw_data.take(1)[0]\n",
        "\n",
        "# Parse\n",
        "complete_movies_data = complete_movies_raw_data.filter(lambda line: line!=complete_movies_raw_data_header)\\\n",
        "    .map(lambda line: line.split(\",\")).map(lambda tokens: (int(tokens[0]),tokens[1],tokens[2])).cache()\n",
        "\n",
        "complete_movies_titles = complete_movies_data.map(lambda x: (int(x[0]),x[1]))\n",
        "    \n",
        "print(\"There are %s movies in the complete dataset\" % (complete_movies_titles.count()))"
      ],
      "execution_count": null,
      "outputs": [
        {
          "output_type": "stream",
          "text": [
            "There are 58098 movies in the complete dataset\n"
          ],
          "name": "stdout"
        }
      ]
    },
    {
      "cell_type": "code",
      "metadata": {
        "id": "CTmf8KgtCSUE"
      },
      "source": [
        "def get_counts_and_averages(ID_and_ratings_tuple):\n",
        "    nratings = len(ID_and_ratings_tuple[1])\n",
        "    return ID_and_ratings_tuple[0], (nratings, float(sum(x for x in ID_and_ratings_tuple[1]))/nratings)\n",
        "\n",
        "movie_ID_with_ratings_RDD = (complete_ratings_data.map(lambda x: (x[1], x[2])).groupByKey())\n",
        "movie_ID_with_avg_ratings_RDD = movie_ID_with_ratings_RDD.map(get_counts_and_averages)\n",
        "movie_rating_counts_RDD = movie_ID_with_avg_ratings_RDD.map(lambda x: (x[0], x[1][0]))"
      ],
      "execution_count": null,
      "outputs": []
    },
    {
      "cell_type": "code",
      "metadata": {
        "id": "RtQ17gMxDd0H",
        "colab": {
          "base_uri": "https://localhost:8080/",
          "height": 54
        },
        "outputId": "fb37d718-4635-434f-f8d9-bef9e032c317"
      },
      "source": [
        "new_user_ID = 0\n",
        "\n",
        "# The format of each line is (userID, movieID, rating)\n",
        "new_user_ratings = [\n",
        "     (0,260,4), # Star Wars (1977)\n",
        "     (0,1,3), # Toy Story (1995)\n",
        "     (0,16,3), # Casino (1995)\n",
        "     (0,25,4), # Leaving Las Vegas (1995)\n",
        "     (0,32,4), # Twelve Monkeys (a.k.a. 12 Monkeys) (1995)\n",
        "     (0,335,1), # Flintstones, The (1994)\n",
        "     (0,379,1), # Timecop (1994)\n",
        "     (0,296,3), # Pulp Fiction (1994)\n",
        "     (0,858,5) , # Godfather, The (1972)\n",
        "     (0,50,4) # Usual Suspects, The (1995)\n",
        "    ]\n",
        "new_user_ratings_RDD = sc.parallelize(new_user_ratings)\n",
        "print(\"New user ratings: %s\" % new_user_ratings_RDD.take(10))"
      ],
      "execution_count": null,
      "outputs": [
        {
          "output_type": "stream",
          "text": [
            "New user ratings: [(0, 260, 4), (0, 1, 3), (0, 16, 3), (0, 25, 4), (0, 32, 4), (0, 335, 1), (0, 379, 1), (0, 296, 3), (0, 858, 5), (0, 50, 4)]\n"
          ],
          "name": "stdout"
        }
      ]
    },
    {
      "cell_type": "code",
      "metadata": {
        "id": "KRcEoq9QD0GG"
      },
      "source": [
        "complete_data_with_new_ratings_RDD = complete_ratings_data.union(new_user_ratings_RDD)"
      ],
      "execution_count": null,
      "outputs": []
    },
    {
      "cell_type": "code",
      "metadata": {
        "id": "mAGuf2J5D6rz",
        "colab": {
          "base_uri": "https://localhost:8080/",
          "height": 34
        },
        "outputId": "11ef7b27-7085-43b6-f6f2-6be6f17d15b1"
      },
      "source": [
        "from time import time\n",
        "\n",
        "t0 = time()\n",
        "new_ratings_model = ALS.train(complete_data_with_new_ratings_RDD, best_rank, seed=seed, \n",
        "                              iterations=iterations, lambda_=regularization_parameter)\n",
        "tt = time() - t0\n",
        "\n",
        "print(\"New model trained in %s seconds\" % round(tt,3))"
      ],
      "execution_count": null,
      "outputs": [
        {
          "output_type": "stream",
          "text": [
            "New model trained in 321.917 seconds\n"
          ],
          "name": "stdout"
        }
      ]
    },
    {
      "cell_type": "code",
      "metadata": {
        "id": "3QzjM4OtIbEq"
      },
      "source": [
        "new_user_ratings_ids = map(lambda x: x[1], new_user_ratings) # get just movie IDs\n",
        "# keep just those not on the ID list (thanks Lei Li for spotting the error!)\n",
        "new_user_unrated_movies_RDD = (complete_movies_data.filter(lambda x: x[0] not in new_user_ratings_ids).map(lambda x: (new_user_ID, x[0])))\n",
        "\n",
        "# Use the input RDD, new_user_unrated_movies_RDD, with new_ratings_model.predictAll() to predict new ratings for the movies\n",
        "new_user_recommendations_RDD = new_ratings_model.predictAll(new_user_unrated_movies_RDD)"
      ],
      "execution_count": null,
      "outputs": []
    },
    {
      "cell_type": "code",
      "metadata": {
        "id": "qDM6NxVcIkho",
        "colab": {
          "base_uri": "https://localhost:8080/",
          "height": 101
        },
        "outputId": "8ef6f13e-8662-4623-f6cf-fd6e9b788974"
      },
      "source": [
        "new_user_recommendations_rating_RDD = new_user_recommendations_RDD.map(lambda x: (x.product, x.rating))\n",
        "new_user_recommendations_rating_title_and_count_RDD = \\\n",
        "    new_user_recommendations_rating_RDD.join(complete_movies_titles).join(movie_rating_counts_RDD)\n",
        "new_user_recommendations_rating_title_and_count_RDD.take(3)"
      ],
      "execution_count": null,
      "outputs": [
        {
          "output_type": "execute_result",
          "data": {
            "text/plain": [
              "[(6216,\n",
              "  ((2.9929557560373636, 'Nowhere in Africa (Nirgendwo in Afrika) (2001)'),\n",
              "   717)),\n",
              " (124320, ((2.996900165645125, 'Once a Thief (1965)'), 1)),\n",
              " (83916, ((2.880113618716198, 'Blues in the Night (1941)'), 9))]"
            ]
          },
          "metadata": {
            "tags": []
          },
          "execution_count": 103
        }
      ]
    },
    {
      "cell_type": "code",
      "metadata": {
        "id": "1MGCVujOJnJV"
      },
      "source": [
        "#(Title, Rating, Ratings Count).\n",
        "new_user_recommendations_rating_title_and_count_RDD = \\\n",
        "    new_user_recommendations_rating_title_and_count_RDD.map(lambda r: (r[1][0][1], r[1][0][0], r[1][1]))\n",
        "\n"
      ],
      "execution_count": null,
      "outputs": []
    },
    {
      "cell_type": "code",
      "metadata": {
        "id": "ehGb7fqCWUtu",
        "colab": {
          "base_uri": "https://localhost:8080/",
          "height": 67
        },
        "outputId": "1560cb11-13f6-456a-e8c1-006c317728cc"
      },
      "source": [
        "new_user_recommendations_rating_title_and_count_RDD.take(3)"
      ],
      "execution_count": null,
      "outputs": [
        {
          "output_type": "execute_result",
          "data": {
            "text/plain": [
              "[('Nowhere in Africa (Nirgendwo in Afrika) (2001)', 2.9929557560373636, 717),\n",
              " ('Once a Thief (1965)', 2.996900165645125, 1),\n",
              " ('Blues in the Night (1941)', 2.880113618716198, 9)]"
            ]
          },
          "metadata": {
            "tags": []
          },
          "execution_count": 105
        }
      ]
    },
    {
      "cell_type": "code",
      "metadata": {
        "id": "GEY3hjqRWx76"
      },
      "source": [
        "top_movies = new_user_recommendations_rating_title_and_count_RDD.filter(lambda r: r[2]>=25).takeOrdered(25, key=lambda x: -x[1])\n"
      ],
      "execution_count": null,
      "outputs": []
    },
    {
      "cell_type": "code",
      "metadata": {
        "id": "0YKSjSGAW4FJ",
        "colab": {
          "base_uri": "https://localhost:8080/",
          "height": 454
        },
        "outputId": "416b5865-f4d5-446c-b116-6d4ceff09f6d"
      },
      "source": [
        "print ('TOP recommended movies (with more than 25 reviews):\\n%s' %\n",
        "        '\\n'.join(map(str, top_movies)))"
      ],
      "execution_count": null,
      "outputs": [
        {
          "output_type": "stream",
          "text": [
            "TOP recommended movies (with more than 25 reviews):\n",
            "(\"Long Night's Journey Into Day (2000)\", 4.008593124114109, 35)\n",
            "('\"Godfather', 3.9800732630420717, 60904)\n",
            "('\"Godfather: Part II', 3.884065604643434, 38875)\n",
            "('Mikra Anglia (2013)', 3.8606531360739065, 27)\n",
            "('\"Woman In Berlin', 3.7893214294453226, 39)\n",
            "('Pulp Fiction (1994)', 3.7861097008326174, 92406)\n",
            "('Frozen Planet (2011)', 3.76823273272918, 402)\n",
            "('Fish Story (Fisshu sutôrî) (2009)', 3.7572742663722223, 28)\n",
            "('Cosmos', 3.7462802507335047, 157)\n",
            "('\"Lord of the Rings: The Fellowship of the Ring', 3.743100290258634, 61883)\n",
            "('Heimat - A Chronicle of Germany (Heimat - Eine deutsche Chronik) (1984)', 3.7420182720725457, 35)\n",
            "(\"Schindler's List (1993)\", 3.741582210907684, 71516)\n",
            "(\"Glen Campbell: I'll Be Me (2014)\", 3.730441514318645, 30)\n",
            "(\"One Flew Over the Cuckoo's Nest (1975)\", 3.7256550790169403, 42181)\n",
            "('\"Lord of the Rings: The Return of the King', 3.7242841288040642, 57378)\n",
            "('\"Shawshank Redemption', 3.722610405802812, 97999)\n",
            "('\"Two Escobars', 3.72147856152526, 78)\n",
            "('Star Wars: Episode IV - A New Hope (1977)', 3.719212275382636, 81815)\n",
            "('Star Wars: Episode V - The Empire Strikes Back (1980)', 3.7094886724927747, 65822)\n",
            "('Lost Boys of Sudan (2003)', 3.706644097282554, 29)\n",
            "('\"Lord of the Rings: The Two Towers', 3.702672723155179, 56696)\n",
            "('The Godfather Trilogy: 1972-1990 (1992)', 3.69692613156674, 421)\n",
            "('Apocalypse Now (1979)', 3.6967503965673503, 28986)\n",
            "('Voices from the List (2004)', 3.691775127046676, 1800)\n",
            "('\"Usual Suspects', 3.686575289285415, 62180)\n"
          ],
          "name": "stdout"
        }
      ]
    },
    {
      "cell_type": "code",
      "metadata": {
        "id": "a5V3_qHeNaMw",
        "colab": {
          "base_uri": "https://localhost:8080/",
          "height": 34
        },
        "outputId": "606d0f69-60ad-467c-fdfa-065a1e92ecad"
      },
      "source": [
        "my_movie = sc.parallelize([(0, 500)]) # Quiz Show (1994)\n",
        "individual_movie_rating_RDD = new_ratings_model.predictAll(new_user_unrated_movies_RDD)\n",
        "individual_movie_rating_RDD.take(1)"
      ],
      "execution_count": null,
      "outputs": [
        {
          "output_type": "execute_result",
          "data": {
            "text/plain": [
              "[Rating(user=0, product=116688, rating=0.71559653175492)]"
            ]
          },
          "metadata": {
            "tags": []
          },
          "execution_count": 108
        }
      ]
    },
    {
      "cell_type": "code",
      "metadata": {
        "id": "RTV3G_g9K7gj"
      },
      "source": [
        ""
      ],
      "execution_count": null,
      "outputs": []
    }
  ]
}